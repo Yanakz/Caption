{
 "cells": [
  {
   "cell_type": "code",
   "execution_count": 1,
   "metadata": {
    "collapsed": false
   },
   "outputs": [],
   "source": [
    "%matplotlib inline\n",
    "from pycocotools.coco import COCO\n",
    "import numpy as np\n",
    "import skimage.io as io\n",
    "import matplotlib.pyplot as plt\n",
    "import scipy.io as sio\n",
    "plt.rcParams['figure.figsize'] = (10.0, 8.0)\n",
    "import os\n",
    "import pickle\n",
    "import nltk\n",
    "#from nltk.corpus import wordnet as wn"
   ]
  },
  {
   "cell_type": "code",
   "execution_count": 14,
   "metadata": {
    "collapsed": false
   },
   "outputs": [
    {
     "name": "stdout",
     "output_type": "stream",
     "text": [
      "loading annotations into memory...\n",
      "0:00:25.193000\n",
      "creating index...\n",
      "index created!\n",
      "loading annotations into memory...\n",
      "0:00:06.259000\n",
      "creating index...\n",
      "index created!\n"
     ]
    }
   ],
   "source": [
    "# training set\n",
    "# dataType='train2014'\n",
    "# usingSet='10000coco'\n",
    "\n",
    "# validation set\n",
    "dataType='val2014'\n",
    "usingSet='5000coco'\n",
    "#===================\n",
    "dataDir='H:/SG_code/Dataset/COCO/tools'\n",
    "usingSetDir = 'H:/SG_code/VIPcoco/%s'%usingSet\n",
    "InsFile='%s/annotations/instances_%s.json'%(dataDir,dataType)\n",
    "CapFile='%s/annotations/captions_%s.json'%(dataDir,dataType)\n",
    "\n",
    "Ins_coco=COCO(InsFile)\n",
    "Cap_coco=COCO(CapFile)"
   ]
  },
  {
   "cell_type": "code",
   "execution_count": 21,
   "metadata": {
    "collapsed": false,
    "scrolled": true
   },
   "outputs": [],
   "source": [
    "#for test\n",
    "SALICON_filename = os.listdir(usingSetDir)\n",
    "SALICON_filename.sort()\n",
    "SALICON_id = [int(item[0:-4]) for item in SALICON_filename]"
   ]
  },
  {
   "cell_type": "code",
   "execution_count": 11,
   "metadata": {
    "collapsed": true
   },
   "outputs": [],
   "source": [
    "#for train\n",
    "SALICON_filename = os.listdir(usingSetDir)\n",
    "SALICON_filename.sort()\n",
    "SALICON_id = [int(item[15:-4]) for item in SALICON_filename]"
   ]
  },
  {
   "cell_type": "code",
   "execution_count": 23,
   "metadata": {
    "collapsed": false
   },
   "outputs": [],
   "source": [
    "# SALICON_filename = os.listdir(usingSetDir)\n",
    "# SALICON_filename.sort()\n",
    "# SALICON_id = [int(item[0:-4]) for item in SALICON_filename]"
   ]
  },
  {
   "cell_type": "code",
   "execution_count": 12,
   "metadata": {
    "collapsed": false
   },
   "outputs": [],
   "source": [
    "SALICON = {}\n",
    "SALICON['SALICON_filename'] = SALICON_filename\n",
    "SALICON['SALICON_id'] = SALICON_id\n",
    "# pickle.dump(SALICON,open('data/5000coco.p','wb'))\n",
    "\n"
   ]
  },
  {
   "cell_type": "code",
   "execution_count": 19,
   "metadata": {
    "collapsed": false
   },
   "outputs": [],
   "source": [
    "pickle.dump(SALICON,open('data/10000coco.p','wb'))"
   ]
  },
  {
   "cell_type": "code",
   "execution_count": 8,
   "metadata": {
    "collapsed": false,
    "scrolled": true
   },
   "outputs": [],
   "source": [
    "cat_list = Ins_coco.cats"
   ]
  },
  {
   "cell_type": "code",
   "execution_count": 3,
   "metadata": {
    "collapsed": false
   },
   "outputs": [],
   "source": [
    "cat_data=sio.loadmat('data/category.mat')\n",
    "cat_data = cat_data['category']\n",
    "category = []\n",
    "for i in range(0, cat_data.size):\n",
    "    cat_item = cat_data[i].item()\n",
    "    cat_item = np.array2string(cat_item)\n",
    "    cat_item= cat_item[3:-2]\n",
    "    category.append(cat_item)\n",
    "category[12] = 'sign'\n",
    "category[27] = 'umbrella'\n",
    "category[9] = 'light'\n",
    "category[13] = 'meter'\n",
    "category[38] = 'bat'\n",
    "category[39] = 'glove'\n",
    "category[42] = 'racket'\n",
    "category[45] = 'glass'\n",
    "category[63] = 'plant'\n",
    "category[66] = 'table'\n",
    "category[76] = 'phone'\n",
    "category[87] = 'teddy'\n",
    "category[88] = 'drier'"
   ]
  },
  {
   "cell_type": "code",
   "execution_count": 9,
   "metadata": {
    "collapsed": false
   },
   "outputs": [],
   "source": [
    "cat_dict_idx = {}\n",
    "for idx in cat_list.keys():\n",
    "    cat_dict_idx[category[idx-1]] = idx\n",
    "cat_dict_supercat = {}\n",
    "for idx in cat_list.keys():\n",
    "    cat_dict_supercat[category[idx-1]] = cat_list[idx]['supercategory']\n",
    "    \n",
    "supercate_id = {}\n",
    "spcat = []\n",
    "for idx in cat_list.keys():\n",
    "    spcat.append(cat_list[idx]['supercategory'])\n",
    "spcat = list(set(spcat))\n",
    "for idx,item in enumerate(spcat):\n",
    "    supercate_id[item] = idx\n",
    "\n",
    "# category[9] = 'light'\n",
    "# category[13] = 'meter'\n",
    "# category[38] = 'bat'\n",
    "# category[39] = 'glove'\n",
    "# category[42] = 'racket'\n",
    "# category[45] = 'glass'\n",
    "# category[63] = 'plant'\n",
    "# category[66] = 'table'\n",
    "# category[76] = 'phone'\n",
    "# category[87] = 'teddy'\n",
    "# category[88] = 'drier'\n",
    "\n",
    "\n",
    "pickle.dump(category,open('data/category.p','wb'))\n",
    "pickle.dump(cat_dict_idx,open('data/cat_dict_idx.p','wb'))\n",
    "pickle.dump(cat_dict_supercat,open('data/cat_dict_supercat.p','wb'))\n",
    "pickle.dump(supercate_id,open('data/supercate_id.p','wb'))"
   ]
  },
  {
   "cell_type": "code",
   "execution_count": 13,
   "metadata": {
    "collapsed": false
   },
   "outputs": [],
   "source": [
    "AnID_list = []\n",
    "for im_id in range(10000):\n",
    "    annIds = Ins_coco.getAnnIds(SALICON['SALICON_id'][im_id])\n",
    "    anns = Ins_coco.loadAnns(annIds)\n",
    "    AnID_list_item = []\n",
    "    for item in anns:\n",
    "        AnID_list_item.append(item['category_id'])\n",
    "    AnID_list.append(list(set(AnID_list_item)))\n",
    "pickle.dump(AnID_list,open('data/Ins_ID_10000coco.p','wb'))\n"
   ]
  },
  {
   "cell_type": "code",
   "execution_count": 3,
   "metadata": {
    "collapsed": false
   },
   "outputs": [],
   "source": [
    "SALICON = pickle.load(open('data/5000coco.p','rb'))\n",
    "Ins_ID = pickle.load(open('data/Ins_ID_10k.p','rb'))\n",
    "\n",
    "category = pickle.load(open('data/category.p','rb'))\n",
    "cat_list = Ins_coco.cats#category list  (official)\n",
    "category_idx = pickle.load(open('data/cat_dict_idx.p','rb'))#eg., person -- 1\n",
    "category_supercategory_idx = pickle.load(open('data/cat_dict_supercat.p','rb')) #eg., person--human \n",
    "supercategory_idx = pickle.load(open('data/supercate_id.p','rb'))#eg., food--1\n"
   ]
  },
  {
   "cell_type": "code",
   "execution_count": null,
   "metadata": {
    "collapsed": true
   },
   "outputs": [],
   "source": []
  },
  {
   "cell_type": "code",
   "execution_count": 5,
   "metadata": {
    "collapsed": true
   },
   "outputs": [],
   "source": [
    "def findID(word, im_idd):\n",
    "    if word in category:\n",
    "        return category_idx[word]\n",
    "    else:\n",
    "        temp_idlist={}\n",
    "        for item in category_idx.keys():\n",
    "            for item1 in wn.synsets(item, wn.NOUN):\n",
    "                for word1 in wn.synsets(word, wn.NOUN):\n",
    "                    dist = item1.wup_similarity(word1)\n",
    "                    if item not in temp_idlist.keys():\n",
    "                        temp_idlist[category_idx[item]] = dist\n",
    "                        continue\n",
    "                    if dist > temp_idlist[category_idx[item]]:\n",
    "                        temp_idlist[category_idx[item]] = dist\n",
    "        temp_idlist = sorted(temp_idlist.iteritems(), key=lambda d: d[1], reverse = True)\n",
    "        temp_idlist = temp_idlist[0:2]\n",
    "        for n in temp_idlist:\n",
    "            if n[0] in Ins_ID[im_idd]:\n",
    "                return n[0]\n",
    "        return 0"
   ]
  },
  {
   "cell_type": "code",
   "execution_count": 8,
   "metadata": {
    "collapsed": false,
    "scrolled": false
   },
   "outputs": [
    {
     "ename": "IndexError",
     "evalue": "list index out of range",
     "output_type": "error",
     "traceback": [
      "\u001b[1;31m---------------------------------------------------------------------------\u001b[0m",
      "\u001b[1;31mIndexError\u001b[0m                                Traceback (most recent call last)",
      "\u001b[1;32m<ipython-input-8-db1bd0141695>\u001b[0m in \u001b[0;36m<module>\u001b[1;34m()\u001b[0m\n\u001b[1;32m----> 1\u001b[1;33m \u001b[1;32mprint\u001b[0m \u001b[0mSALICON\u001b[0m\u001b[1;33m[\u001b[0m\u001b[1;34m'SALICON_filename'\u001b[0m\u001b[1;33m]\u001b[0m\u001b[1;33m[\u001b[0m\u001b[1;36m901\u001b[0m\u001b[1;33m]\u001b[0m\u001b[1;33m\u001b[0m\u001b[0m\n\u001b[0m\u001b[0;32m      2\u001b[0m \u001b[1;32mprint\u001b[0m \u001b[0mSALICON\u001b[0m\u001b[1;33m.\u001b[0m\u001b[0mkeys\u001b[0m\u001b[1;33m(\u001b[0m\u001b[1;33m)\u001b[0m\u001b[1;33m\u001b[0m\u001b[0m\n\u001b[0;32m      3\u001b[0m \u001b[1;32mprint\u001b[0m \u001b[0mSALICON\u001b[0m\u001b[1;33m[\u001b[0m\u001b[1;34m'SALICON_id'\u001b[0m\u001b[1;33m]\u001b[0m\u001b[1;33m[\u001b[0m\u001b[1;36m0\u001b[0m\u001b[1;33m]\u001b[0m\u001b[1;33m\u001b[0m\u001b[0m\n\u001b[0;32m      4\u001b[0m \u001b[1;32mprint\u001b[0m \u001b[0mSALICON\u001b[0m\u001b[1;33m[\u001b[0m\u001b[1;34m'SALICON_filename'\u001b[0m\u001b[1;33m]\u001b[0m\u001b[1;33m[\u001b[0m\u001b[1;36m0\u001b[0m\u001b[1;33m]\u001b[0m\u001b[1;33m\u001b[0m\u001b[0m\n",
      "\u001b[1;31mIndexError\u001b[0m: list index out of range"
     ]
    }
   ],
   "source": [
    "print SALICON['SALICON_filename'][901]\n",
    "print SALICON.keys()\n",
    "print SALICON['SALICON_id'][0]\n",
    "print SALICON['SALICON_filename'][0]"
   ]
  },
  {
   "cell_type": "code",
   "execution_count": 7,
   "metadata": {
    "collapsed": false
   },
   "outputs": [],
   "source": [
    "WORDMAT = sio.loadmat('data/word_mat_april10.mat')\n",
    "WORDMAT = WORDMAT['word_mat']"
   ]
  },
  {
   "cell_type": "code",
   "execution_count": 8,
   "metadata": {
    "collapsed": false
   },
   "outputs": [],
   "source": [
    "WORDMAT_dup = WORDMAT[:,0]"
   ]
  },
  {
   "cell_type": "code",
   "execution_count": 26,
   "metadata": {
    "collapsed": false,
    "scrolled": true
   },
   "outputs": [
    {
     "name": "stdout",
     "output_type": "stream",
     "text": [
      "0\n",
      "100\n",
      "200\n",
      "300\n",
      "400\n",
      "500\n",
      "600\n",
      "700\n",
      "800\n",
      "900\n",
      "1000\n",
      "1100\n",
      "1200\n",
      "1300\n",
      "1400\n",
      "1500\n",
      "1600\n",
      "1700\n",
      "1800\n",
      "1900\n",
      "2000\n",
      "2100\n",
      "2200\n",
      "2300\n",
      "2400\n",
      "2500\n",
      "2600\n",
      "2700\n",
      "2800\n",
      "2900\n",
      "3000\n",
      "3100\n",
      "3200\n",
      "3300\n",
      "3400\n",
      "3500\n",
      "3600\n",
      "3700\n",
      "3800\n",
      "3900\n",
      "4000\n",
      "4100\n",
      "4200\n",
      "4300\n",
      "4400\n",
      "4500\n",
      "4600\n",
      "4700\n",
      "4800\n",
      "4900\n",
      "5000\n",
      "5100\n",
      "5200\n",
      "5300\n",
      "5400\n",
      "5500\n",
      "5600\n",
      "5700\n",
      "5800\n",
      "5900\n",
      "6000\n",
      "6100\n",
      "6200\n",
      "6300\n",
      "6400\n",
      "6500\n",
      "6600\n",
      "6700\n",
      "6800\n",
      "6900\n",
      "7000\n",
      "7100\n",
      "7200\n",
      "7300\n",
      "7400\n",
      "7500\n",
      "7600\n",
      "7700\n",
      "7800\n",
      "7900\n",
      "8000\n",
      "8100\n",
      "8200\n",
      "8300\n",
      "8400\n",
      "8500\n",
      "8600\n",
      "8700\n",
      "8800\n",
      "8900\n",
      "9000\n",
      "9100\n",
      "9200\n",
      "9300\n",
      "9400\n",
      "9500\n",
      "9600\n",
      "9700\n",
      "9800\n",
      "9900\n"
     ]
    }
   ],
   "source": [
    "COCO10k_nounlist = []\n",
    "COCO10k_nounID = []\n",
    "for im_id, captions_perim in enumerate(WORDMAT_dup):\n",
    "    noun_im = []\n",
    "    nounID_im = []\n",
    "    for caption in captions_perim:\n",
    "        noun_perst = []\n",
    "        nounid_perst = []\n",
    "        for noun in caption[0]:\n",
    "            word =  (noun.item())[0]\n",
    "            word = wn.morphy(word, wn.NOUN)\n",
    "            if word is None:\n",
    "                continue\n",
    "            I_ID = findID(word, im_id)\n",
    "            if I_ID == 0:\n",
    "                continue\n",
    "            noun_perst.append(word)\n",
    "            nounid_perst.append(I_ID)\n",
    "        noun_im.append(noun_perst)\n",
    "        nounID_im.append(nounid_perst)     \n",
    "    COCO10k_nounlist.append(noun_im)\n",
    "    COCO10k_nounID.append(nounID_im)\n",
    "    if im_id%100 == 0:\n",
    "#         break\n",
    "        print im_id            "
   ]
  },
  {
   "cell_type": "code",
   "execution_count": 35,
   "metadata": {
    "collapsed": true
   },
   "outputs": [],
   "source": [
    "pickle.dump(COCO10k_nounlist,open('data/10000coco_nounlist.p','wb'))\n",
    "pickle.dump(COCO10k_nounID,open('data/10000coco_nounID.p','wb'))\n",
    "pickle.dump(Cardi_Noun,open('data/10000coco_Cardi.p','wb'))\n",
    "pickle.dump(Seque_Noun,open('data/10000coco_Seque.p','wb'))"
   ]
  },
  {
   "cell_type": "code",
   "execution_count": 29,
   "metadata": {
    "collapsed": false
   },
   "outputs": [],
   "source": [
    "Cardi_Noun=[]\n",
    "Seque_Noun=[]\n",
    "for group in COCO10k_nounID:\n",
    "    imdict = {}\n",
    "    cardi=[]\n",
    "    for item in group:\n",
    "        if not item:\n",
    "            continue\n",
    "        for idx in item:\n",
    "            cardi.append(idx)\n",
    "    u_set = list(set(cardi))\n",
    "    n_obj = len(u_set)\n",
    "    for uitem in u_set:\n",
    "        num = cardi.count(uitem)\n",
    "        imdict[uitem] = num\n",
    "    imdict= sorted(imdict.iteritems(), key=lambda d:d[1], reverse = True)\n",
    "    Cardi_Noun.append(imdict)\n",
    "\n",
    "    seque={}\n",
    "    seq = [0]*n_obj\n",
    "    iid = 0\n",
    "    for iid, item in enumerate(u_set):\n",
    "        for imseq in group:\n",
    "            if not imseq or item not in imseq:\n",
    "                continue\n",
    "            wid = imseq.index(item)\n",
    "            if type(wid)==list:\n",
    "                for wwid in wid:\n",
    "                    seq[iid]+=n_obj/(wwid+1)\n",
    "            else:\n",
    "                seq[iid]+=n_obj/(wid+1)\n",
    "        seque[item] = seq[iid]\n",
    "    seque= sorted(seque.iteritems(), key=lambda d:d[1], reverse = True)\n",
    "    Seque_Noun.append(seque)\n"
   ]
  }
 ],
 "metadata": {
  "kernelspec": {
   "display_name": "Python 2",
   "language": "python",
   "name": "python2"
  },
  "language_info": {
   "codemirror_mode": {
    "name": "ipython",
    "version": 2
   },
   "file_extension": ".py",
   "mimetype": "text/x-python",
   "name": "python",
   "nbconvert_exporter": "python",
   "pygments_lexer": "ipython2",
   "version": "2.7.11"
  }
 },
 "nbformat": 4,
 "nbformat_minor": 0
}
